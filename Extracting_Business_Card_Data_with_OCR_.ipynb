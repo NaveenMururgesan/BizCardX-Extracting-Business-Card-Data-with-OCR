{
  "cells": [
    {
      "cell_type": "markdown",
      "metadata": {
        "id": "vWmc_s2ezvU0"
      },
      "source": [
        "# Run streamlit app from a Google Colab Notebook\n",
        "> Created by [Manuel Romero](https://twitter.com/mrm8488)"
      ]
    },
    {
      "cell_type": "code",
      "execution_count": 1,
      "metadata": {
        "id": "RvlYkCQ9vFiy"
      },
      "outputs": [],
      "source": [
        "!pip install -q streamlit"
      ]
    },
    {
      "cell_type": "code",
      "execution_count": 2,
      "metadata": {
        "colab": {
          "base_uri": "https://localhost:8080/"
        },
        "id": "an2C3c_0Ooi9",
        "outputId": "2dc0c88b-0f07-4e8a-cb73-dd002a44ac65"
      },
      "outputs": [
        {
          "output_type": "stream",
          "name": "stdout",
          "text": [
            "Looking in indexes: https://pypi.org/simple, https://us-python.pkg.dev/colab-wheels/public/simple/\n",
            "Requirement already satisfied: easyocr in /usr/local/lib/python3.8/dist-packages (1.6.2)\n",
            "Requirement already satisfied: Shapely in /usr/local/lib/python3.8/dist-packages (from easyocr) (2.0.1)\n",
            "Requirement already satisfied: python-bidi in /usr/local/lib/python3.8/dist-packages (from easyocr) (0.4.2)\n",
            "Requirement already satisfied: Pillow in /usr/local/lib/python3.8/dist-packages (from easyocr) (8.4.0)\n",
            "Requirement already satisfied: PyYAML in /usr/local/lib/python3.8/dist-packages (from easyocr) (6.0)\n",
            "Requirement already satisfied: pyclipper in /usr/local/lib/python3.8/dist-packages (from easyocr) (1.3.0.post4)\n",
            "Requirement already satisfied: torch in /usr/local/lib/python3.8/dist-packages (from easyocr) (1.13.1+cu116)\n",
            "Requirement already satisfied: torchvision>=0.5 in /usr/local/lib/python3.8/dist-packages (from easyocr) (0.14.1+cu116)\n",
            "Requirement already satisfied: numpy in /usr/local/lib/python3.8/dist-packages (from easyocr) (1.22.4)\n",
            "Requirement already satisfied: opencv-python-headless<=4.5.4.60 in /usr/local/lib/python3.8/dist-packages (from easyocr) (4.5.4.60)\n",
            "Requirement already satisfied: ninja in /usr/local/lib/python3.8/dist-packages (from easyocr) (1.11.1)\n",
            "Requirement already satisfied: scikit-image in /usr/local/lib/python3.8/dist-packages (from easyocr) (0.19.3)\n",
            "Requirement already satisfied: scipy in /usr/local/lib/python3.8/dist-packages (from easyocr) (1.10.1)\n",
            "Requirement already satisfied: requests in /usr/local/lib/python3.8/dist-packages (from torchvision>=0.5->easyocr) (2.25.1)\n",
            "Requirement already satisfied: typing-extensions in /usr/local/lib/python3.8/dist-packages (from torchvision>=0.5->easyocr) (4.5.0)\n",
            "Requirement already satisfied: six in /usr/local/lib/python3.8/dist-packages (from python-bidi->easyocr) (1.15.0)\n",
            "Requirement already satisfied: networkx>=2.2 in /usr/local/lib/python3.8/dist-packages (from scikit-image->easyocr) (3.0)\n",
            "Requirement already satisfied: packaging>=20.0 in /usr/local/lib/python3.8/dist-packages (from scikit-image->easyocr) (23.0)\n",
            "Requirement already satisfied: imageio>=2.4.1 in /usr/local/lib/python3.8/dist-packages (from scikit-image->easyocr) (2.9.0)\n",
            "Requirement already satisfied: tifffile>=2019.7.26 in /usr/local/lib/python3.8/dist-packages (from scikit-image->easyocr) (2023.2.28)\n",
            "Requirement already satisfied: PyWavelets>=1.1.1 in /usr/local/lib/python3.8/dist-packages (from scikit-image->easyocr) (1.4.1)\n",
            "Requirement already satisfied: urllib3<1.27,>=1.21.1 in /usr/local/lib/python3.8/dist-packages (from requests->torchvision>=0.5->easyocr) (1.26.14)\n",
            "Requirement already satisfied: idna<3,>=2.5 in /usr/local/lib/python3.8/dist-packages (from requests->torchvision>=0.5->easyocr) (2.10)\n",
            "Requirement already satisfied: chardet<5,>=3.0.2 in /usr/local/lib/python3.8/dist-packages (from requests->torchvision>=0.5->easyocr) (4.0.0)\n",
            "Requirement already satisfied: certifi>=2017.4.17 in /usr/local/lib/python3.8/dist-packages (from requests->torchvision>=0.5->easyocr) (2022.12.7)\n"
          ]
        }
      ],
      "source": [
        "!pip install easyocr"
      ]
    },
    {
      "cell_type": "code",
      "execution_count": 3,
      "metadata": {
        "colab": {
          "base_uri": "https://localhost:8080/"
        },
        "id": "hBe77etK96dl",
        "outputId": "4c39ea4b-dc59-40e9-b4c7-5f6e5c9b5ce4"
      },
      "outputs": [
        {
          "output_type": "stream",
          "name": "stdout",
          "text": [
            "Looking in indexes: https://pypi.org/simple, https://us-python.pkg.dev/colab-wheels/public/simple/\n",
            "\u001b[31mERROR: Could not find a version that satisfies the requirement sqlite (from versions: none)\u001b[0m\u001b[31m\n",
            "\u001b[0m\u001b[31mERROR: No matching distribution found for sqlite\u001b[0m\u001b[31m\n",
            "\u001b[0m"
          ]
        }
      ],
      "source": [
        "!pip install sqlite"
      ]
    },
    {
      "cell_type": "code",
      "execution_count": 4,
      "metadata": {
        "id": "K8-2iCll9ypo"
      },
      "outputs": [],
      "source": [
        "import streamlit as st\n",
        "import pandas as pd\n",
        "import easyocr\n",
        "from PIL import Image\n",
        "import sqlite3"
      ]
    },
    {
      "cell_type": "markdown",
      "metadata": {
        "id": "waCfwniZOow8"
      },
      "source": [
        "## Create a streamlit app example\n"
      ]
    },
    {
      "cell_type": "code",
      "execution_count": 5,
      "metadata": {
        "colab": {
          "base_uri": "https://localhost:8080/"
        },
        "id": "meJ36PefNftd",
        "outputId": "ee6a0643-213f-4e2f-d5df-d3bd89594944"
      },
      "outputs": [
        {
          "output_type": "stream",
          "name": "stdout",
          "text": [
            "Overwriting app.py\n"
          ]
        }
      ],
      "source": [
        "%%writefile app.py\n",
        "import streamlit as st\n",
        "import pandas as pd\n",
        "import easyocr\n",
        "from PIL import Image\n",
        "import sqlite3\n",
        "st.header('BizCardX: Extracting Business Card Data with OCR')\n",
        "\n",
        "\n",
        "uploaded_file = st.file_uploader(\"Choose a file\")\n",
        "\n",
        "\n",
        "\n",
        "def func(uploaded_file):\n",
        "\n",
        "    if uploaded_file is not None:\n",
        "        \n",
        "        bytes_data = uploaded_file.getvalue()\n",
        "\n",
        "        image = Image.open(uploaded_file)\n",
        "        new_image = image.resize((500, 333))\n",
        "        st.write(\"Image Preview\")\n",
        "        st.image(new_image)\n",
        "\n",
        "\n",
        "    \n",
        "        if st.button(\"Click Here\"):\n",
        "        \n",
        "            reader = easyocr.Reader(['en'])\n",
        "            bounds = reader.readtext(image, detail=0)\n",
        "            # Convert the extracted information to a string\n",
        "            text = \"\\n\".join(bounds)\n",
        "\n",
        "import re\n",
        "\n",
        "# Sample text extracted from business card image using easyocr\n",
        "text = \"GLOBAL INSURANCE\\nAmit kumar\\nCEO & FOUNDER\\n123-456-7569\\nhello@global.com\\nWWW.global.com\\n123 global St ,\\nErode,\\nTamilNadu\\n600115\"\n",
        "\n",
        "# Define regex patterns to extract information\n",
        "name_pattern = r\"(?<=Card Holder Name\\s)[\\w\\s]+\"\n",
        "designation_pattern = r\"(?<=Designation\\s)[\\w\\s&]+\"\n",
        "mobile_pattern = r\"(?<=Mobile Number\\s)\\d{3}-\\d{3}-\\d{4}\"\n",
        "email_pattern = r\"(?<=Email Address\\s)[\\w\\.]+@[a-zA-Z]+\\.[a-zA-Z]+\"\n",
        "website_pattern = r\"(?<=Website URL\\s)WWW\\.[\\w\\.]+\"\n",
        "address_pattern = r\"(?<=Area\\s)[\\w\\s\\d,-]+(?=\\nCity)\"\n",
        "city_pattern = r\"(?<=City\\s)[\\w\\s]+\"\n",
        "state_pattern = r\"(?<=State\\s)[\\w\\s]+\"\n",
        "pincode_pattern = r\"(?<=Pincode\\s)\\d+\"\n",
        "\n",
        "# Extract information using regex\n",
        "name = re.findall(name_pattern, text)[0]\n",
        "designation = re.findall(designation_pattern, text)[0]\n",
        "mobile = re.findall(mobile_pattern, text)[0]\n",
        "email = re.findall(email_pattern, text)[0]\n",
        "website = re.findall(website_pattern, text)[0]\n",
        "address = re.findall(address_pattern, text)[0]\n",
        "city = re.findall(city_pattern, text)[0]\n",
        "state = re.findall(state_pattern, text)[0]\n",
        "pincode = re.findall(pincode_pattern, text)[0]\n",
        "\n",
        "# Print extracted information\n",
        "print(f\"Name: {name}\")\n",
        "print(f\"Designation: {designation}\")\n",
        "print(f\"Mobile: {mobile}\")\n",
        "print(f\"Email: {email}\")\n",
        "print(f\"Website: {website}\")\n",
        "print(f\"Address: {address}\")\n",
        "print(f\"City: {city}\")\n",
        "print(f\"State: {state}\")\n",
        "print(f\"Pincode: {pincode}\")\n",
        "\n",
        "\n",
        "func(uploaded_file)\n",
        "\n"
      ]
    },
    {
      "cell_type": "markdown",
      "metadata": {
        "id": "xZlEJkmSOoxC"
      },
      "source": [
        "## Install localtunnel"
      ]
    },
    {
      "cell_type": "code",
      "execution_count": 6,
      "metadata": {
        "colab": {
          "base_uri": "https://localhost:8080/"
        },
        "id": "ZAyqQCQVOoxC",
        "outputId": "247302e9-87bd-4adb-8a84-8d7da15452ef"
      },
      "outputs": [
        {
          "output_type": "stream",
          "name": "stdout",
          "text": [
            "\u001b[K\u001b[?25h\u001b[37;40mnpm\u001b[0m \u001b[0m\u001b[30;43mWARN\u001b[0m \u001b[0m\u001b[35msaveError\u001b[0m ENOENT: no such file or directory, open '/content/package.json'\n",
            "\u001b[K\u001b[?25h\u001b[37;40mnpm\u001b[0m \u001b[0m\u001b[30;43mWARN\u001b[0m \u001b[0m\u001b[35menoent\u001b[0m ENOENT: no such file or directory, open '/content/package.json'\n",
            "\u001b[0m\u001b[37;40mnpm\u001b[0m \u001b[0m\u001b[30;43mWARN\u001b[0m\u001b[35m\u001b[0m content No description\n",
            "\u001b[0m\u001b[37;40mnpm\u001b[0m \u001b[0m\u001b[30;43mWARN\u001b[0m\u001b[35m\u001b[0m content No repository field.\n",
            "\u001b[0m\u001b[37;40mnpm\u001b[0m \u001b[0m\u001b[30;43mWARN\u001b[0m\u001b[35m\u001b[0m content No README data\n",
            "\u001b[0m\u001b[37;40mnpm\u001b[0m \u001b[0m\u001b[30;43mWARN\u001b[0m\u001b[35m\u001b[0m content No license field.\n",
            "\u001b[0m\n",
            "+ localtunnel@2.0.2\n",
            "updated 1 package and audited 36 packages in 0.783s\n",
            "\n",
            "3 packages are looking for funding\n",
            "  run `npm fund` for details\n",
            "\n",
            "found \u001b[92m0\u001b[0m vulnerabilities\n",
            "\n",
            "\u001b[K\u001b[?25h"
          ]
        }
      ],
      "source": [
        "!npm install localtunnel"
      ]
    },
    {
      "cell_type": "markdown",
      "metadata": {
        "id": "kccYE2lkN20y"
      },
      "source": [
        "## Run streamlit in background"
      ]
    },
    {
      "cell_type": "code",
      "execution_count": 7,
      "metadata": {
        "id": "Zv912rRAN0fs"
      },
      "outputs": [],
      "source": [
        "!streamlit run /content/app.py &>/content/logs.txt &"
      ]
    },
    {
      "cell_type": "markdown",
      "metadata": {
        "id": "h_KW9juhOCuH"
      },
      "source": [
        "## Expose the port 8501\n",
        "Then just click in the `url` showed.\n",
        "\n",
        "A `log.txt`file will be created."
      ]
    },
    {
      "cell_type": "code",
      "execution_count": null,
      "metadata": {
        "colab": {
          "base_uri": "https://localhost:8080/"
        },
        "id": "XTGAizLhOIgC",
        "outputId": "27e07b05-42d0-4c74-dbcf-4459fc4eac92"
      },
      "outputs": [
        {
          "output_type": "stream",
          "name": "stdout",
          "text": [
            "\u001b[K\u001b[?25hnpx: installed 22 in 3.298s\n",
            "your url is: https://fast-hounds-allow-34-125-122-121.loca.lt\n"
          ]
        }
      ],
      "source": [
        "!npx localtunnel --port 8501"
      ]
    },
    {
      "cell_type": "markdown",
      "metadata": {
        "id": "GVz-H__pOoxG"
      },
      "source": [
        "[![ko-fi](https://www.ko-fi.com/img/githubbutton_sm.svg)](https://ko-fi.com/Y8Y3VYYE)"
      ]
    }
  ],
  "metadata": {
    "colab": {
      "provenance": []
    },
    "kernelspec": {
      "display_name": "Python 3",
      "name": "python3"
    }
  },
  "nbformat": 4,
  "nbformat_minor": 0
}